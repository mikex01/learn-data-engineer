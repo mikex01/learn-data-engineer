{
 "cells": [
  {
   "cell_type": "code",
   "execution_count": 33,
   "id": "7d73d543-1c3e-4088-a44f-8722468b42c6",
   "metadata": {},
   "outputs": [
    {
     "name": "stdout",
     "output_type": "stream",
     "text": [
      "(1, 4) \n",
      "\n",
      "   STATEFIPS STATE  zipcode  agi_stub\n",
      "0          1    AL        0         1 \n",
      "\n",
      "   STATEFIPS  agi_stub\n",
      "0          1         1\n",
      "           0         3\n",
      "0  STATEFIPS  agi_stub\n",
      "False\n"
     ]
    }
   ],
   "source": [
    "# Classic\n",
    "import pandas as pd\n",
    "\n",
    "raw_data_dir = \"./RawData/us_tax_data_2016.csv\"\n",
    "# ingest csv with specific separate\n",
    "tax_data = pd.read_csv(raw_data_dir, sep=\",\")\n",
    "# info\n",
    "print(tax_data.shape, \"\\n\") # out TUPLA\n",
    "print(tax_data, \"\\n\")\n",
    "# edit\n",
    "# choose columns\n",
    "col_name = [\"STATEFIPS\", \"agi_stub\"]\n",
    "col_nums = [0, 3]\n",
    "tax_data_v1 = pd.read_csv(raw_data_dir,\n",
    "                          usecols=col_name)\n",
    "tax_data_v2 = pd.read_csv(raw_data_dir,\n",
    "                          usecols=col_nums,\n",
    "                          nrows=1,\n",
    "                         header=None) # with number of rows\n",
    "print(tax_data_v1)\n",
    "print(tax_data_v2)\n",
    "# compare dataset\n",
    "print(tax_data_v1.equals(tax_data_v2))"
   ]
  },
  {
   "cell_type": "code",
   "execution_count": 35,
   "id": "aafdbca6-ce95-49b5-9448-bb758463f559",
   "metadata": {},
   "outputs": [
    {
     "data": {
      "text/plain": [
       "['STATEFIPS', 'agi_stub']"
      ]
     },
     "execution_count": 35,
     "metadata": {},
     "output_type": "execute_result"
    }
   ],
   "source": [
    "# info\n",
    "list(tax_data_v1)"
   ]
  },
  {
   "cell_type": "code",
   "execution_count": null,
   "id": "13aff763-508f-4b7c-a878-06d7fed40286",
   "metadata": {},
   "outputs": [],
   "source": []
  },
  {
   "cell_type": "code",
   "execution_count": null,
   "id": "122a2560-3c98-4da6-8f76-e605569e12bb",
   "metadata": {},
   "outputs": [],
   "source": []
  },
  {
   "cell_type": "code",
   "execution_count": null,
   "id": "d84bf072-2360-4469-b53d-f4014c1e15d4",
   "metadata": {},
   "outputs": [],
   "source": []
  },
  {
   "cell_type": "code",
   "execution_count": null,
   "id": "e7a4bb58-1cf5-4950-b36a-0c282344bd25",
   "metadata": {},
   "outputs": [],
   "source": []
  },
  {
   "cell_type": "markdown",
   "id": "6ff48064-a7bc-4089-88b6-c412323dbc6f",
   "metadata": {},
   "source": [
    "NOTES \n",
    "\n",
    "\n",
    "\n",
    "counts = data.groupby(\"agi_stub\").N1.sum()\n",
    "counts.plot.bar()\n",
    "plt.show()"
   ]
  }
 ],
 "metadata": {
  "kernelspec": {
   "display_name": "Python 3 (ipykernel)",
   "language": "python",
   "name": "python3"
  },
  "language_info": {
   "codemirror_mode": {
    "name": "ipython",
    "version": 3
   },
   "file_extension": ".py",
   "mimetype": "text/x-python",
   "name": "python",
   "nbconvert_exporter": "python",
   "pygments_lexer": "ipython3",
   "version": "3.10.6"
  }
 },
 "nbformat": 4,
 "nbformat_minor": 5
}
